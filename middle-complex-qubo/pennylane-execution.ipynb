{
 "cells": [
  {
   "cell_type": "markdown",
   "metadata": {},
   "source": [
    "Following this tutorial: https://www.youtube.com/watch?v=LhbDMv3iA9s"
   ]
  },
  {
   "cell_type": "code",
   "execution_count": 15,
   "metadata": {},
   "outputs": [],
   "source": [
    "import pennylane as qml\n",
    "from pennylane import numpy as np\n",
    "import dimod\n",
    "\n",
    "import generate"
   ]
  },
  {
   "cell_type": "code",
   "execution_count": 16,
   "metadata": {},
   "outputs": [],
   "source": [
    "def to_ising(H):\n",
    "    n = H.shape[0] \n",
    "    J = np.zeros((n, n))\n",
    "    h = np.zeros(n)\n",
    "\n",
    "    for i in range(n):\n",
    "        for j in range(n):\n",
    "            if i != j:\n",
    "                J[i, j] = 0.5 * H[i, j]\n",
    "                J[j, i] = J[i, j]\n",
    "        h[i] = 0.5 * np.sum(H[i, :])\n",
    "    return J, h\n",
    "\n",
    "# Función para crear el Hamiltoniano\n",
    "def create_hamiltonian(h, J):\n",
    "    num_qubits= J.shape[0]\n",
    "    H = qml.Identity(wires=0)\n",
    "    \n",
    "    for i in range(num_qubits):\n",
    "        if h[i] != 0:\n",
    "            H += h[i] * qml.PauliZ(i)\n",
    "    \n",
    "    for i in range(num_qubits):\n",
    "        for j in range(i + 1, num_qubits):\n",
    "            if J[i, j] != 0:\n",
    "                H += J[i, j] * qml.PauliZ(i) @ qml.PauliZ(j)\n",
    "    \n",
    "    return H"
   ]
  },
  {
   "cell_type": "code",
   "execution_count": 28,
   "metadata": {},
   "outputs": [
    {
     "name": "stderr",
     "output_type": "stream",
     "text": [
      "/var/folders/y9/h6266tlx7n9bd2_vpvfqrttns60r8r/T/ipykernel_14722/1722528007.py:13: DeprecationWarning: bqm.to_numpy_matrix() is deprecated since dimod 0.10.0 and will be removed in 0.12.0\n",
      "  Q = bqm.to_numpy_matrix()\n"
     ]
    }
   ],
   "source": [
    "# Q, x = generate.generate_qubo_matrix(20,3)\n",
    "# Q = np.array(\n",
    "#     [\n",
    "#         [-10.0, 19.7365809, 19.7365809, 5.42015853, 5.42015853],\n",
    "#         [19.7365809, -10.0, 20.67626392, 0.17675796, 0.85604541],\n",
    "#         [19.7365809, 20.67626392, -10.0, 0.85604541, 0.17675796],\n",
    "#         [5.42015853, 0.17675796, 0.85604541, -10.0, 0.32306662],\n",
    "#         [5.42015853, 0.85604541, 0.17675796, 0.32306662, -10.0],\n",
    "#     ]\n",
    "# )\n",
    "\n",
    "bqm = dimod.generators.randint(10, vartype=dimod.BINARY, high=100, low=0)\n",
    "Q = bqm.to_numpy_matrix()\n",
    "\n",
    "J, h = to_ising(Q)\n",
    "H = create_hamiltonian(h, J)"
   ]
  },
  {
   "cell_type": "code",
   "execution_count": 30,
   "metadata": {},
   "outputs": [
    {
     "data": {
      "text/plain": [
       "(\n",
       "    I(0)\n",
       "  + 253.0 * Z(0)\n",
       "  + 224.5 * Z(1)\n",
       "  + 210.0 * Z(2)\n",
       "  + 190.0 * Z(3)\n",
       "  + 90.5 * Z(4)\n",
       "  + 154.5 * Z(5)\n",
       "  + 111.0 * Z(6)\n",
       "  + 50.5 * Z(7)\n",
       "  + 43.0 * Z(8)\n",
       ")"
      ]
     },
     "execution_count": 30,
     "metadata": {},
     "output_type": "execute_result"
    }
   ],
   "source": [
    "H"
   ]
  },
  {
   "cell_type": "code",
   "execution_count": 31,
   "metadata": {},
   "outputs": [],
   "source": [
    "# Set up a quantum device\n",
    "dev = qml.device('lightning.qubit', wires=H.wires)"
   ]
  },
  {
   "cell_type": "code",
   "execution_count": 32,
   "metadata": {},
   "outputs": [],
   "source": [
    "# Quantum function to evaluate the QUBO problem\n",
    "@qml.qnode(dev)\n",
    "def circuit(params):\n",
    "    total_qubits = H.num_wires\n",
    "    for i in range(total_qubits):\n",
    "        qml.RY(params[i], wires=H.wires[i])\n",
    "        \n",
    "        if(i < total_qubits-1):\n",
    "            qml.CNOT(wires=[H.wires[i], H.wires[i+1]])\n",
    "    return qml.expval(H)\n",
    "\n",
    "# @qml.qnode(dev)\n",
    "# def circuit(params):\n",
    "#     for param, wire in zip(params, H.wires):\n",
    "#         qml.RY(param, wires=wire)\n",
    "#     return qml.expval(H)"
   ]
  },
  {
   "cell_type": "code",
   "execution_count": 33,
   "metadata": {},
   "outputs": [
    {
     "name": "stderr",
     "output_type": "stream",
     "text": [
      "/Users/targuelles/Library/Caches/pypoetry/virtualenvs/basic-qubo-2hUiBxcz-py3.10/lib/python3.10/site-packages/pennylane/devices/preprocess.py:240: UserWarning: Differentiating with respect to the input parameters of Sum is not supported with the adjoint differentiation method. Gradients are computed only with regards to the trainable parameters of the circuit.\n",
      "\n",
      " Mark the parameters of the measured observables as non-trainable to silence this warning.\n",
      "  warnings.warn(\n"
     ]
    },
    {
     "data": {
      "text/plain": [
       "1328.0"
      ]
     },
     "execution_count": 33,
     "metadata": {},
     "output_type": "execute_result"
    }
   ],
   "source": [
    "circuit(np.zeros(H.num_wires))"
   ]
  },
  {
   "cell_type": "code",
   "execution_count": 34,
   "metadata": {},
   "outputs": [],
   "source": [
    "# print(qml.draw(circuit, expansion_strategy='device')(params = np.zeros(H.num_wires)))"
   ]
  },
  {
   "cell_type": "code",
   "execution_count": 35,
   "metadata": {},
   "outputs": [],
   "source": [
    "params = np.random.rand(H.num_wires)\n",
    "# params = np.full(H.num_wires, 0.5)"
   ]
  },
  {
   "cell_type": "code",
   "execution_count": 36,
   "metadata": {},
   "outputs": [
    {
     "data": {
      "text/plain": [
       "-1326.0"
      ]
     },
     "execution_count": 36,
     "metadata": {},
     "output_type": "execute_result"
    }
   ],
   "source": [
    "opt = qml.AdagradOptimizer(stepsize=0.5)\n",
    "epochs = 200\n",
    "\n",
    "for epoch in range(epochs):\n",
    "  params = opt.step(circuit, params)\n",
    "\n",
    "circuit(params)"
   ]
  },
  {
   "cell_type": "code",
   "execution_count": 37,
   "metadata": {},
   "outputs": [],
   "source": [
    "dev = qml.device('lightning.qubit', wires=H.wires, shots=10)\n",
    "@qml.qnode(dev)\n",
    "def circuit(params):\n",
    "    total_qubits = len(H.wires)\n",
    "    for i in range(total_qubits):\n",
    "        qml.RY(params[i], wires=H.wires[i])\n",
    "        \n",
    "        if(i < total_qubits-1):\n",
    "            qml.CNOT(wires=[H.wires[i], H.wires[i+1]])\n",
    "    return qml.sample()\n",
    "\n",
    "# dev = qml.device('default.qubit', wires=H.wires, shots=1)\n",
    "# @qml.qnode(dev)\n",
    "# def circuit(params):\n",
    "#     for param, wire in zip(params, H.wires):\n",
    "#         qml.RY(param, wires=wire)\n",
    "#     return qml.sample()"
   ]
  },
  {
   "cell_type": "markdown",
   "metadata": {},
   "source": []
  },
  {
   "cell_type": "code",
   "execution_count": 38,
   "metadata": {},
   "outputs": [
    {
     "data": {
      "text/plain": [
       "(array([[1, 1, 1, 1, 1, 1, 1, 1, 1],\n",
       "        [1, 1, 1, 1, 1, 1, 1, 1, 1],\n",
       "        [1, 1, 1, 1, 1, 1, 1, 1, 1],\n",
       "        [1, 1, 1, 1, 1, 1, 1, 1, 1],\n",
       "        [1, 1, 1, 1, 1, 1, 1, 1, 1],\n",
       "        [1, 1, 1, 1, 1, 1, 1, 1, 1],\n",
       "        [1, 1, 1, 1, 1, 1, 1, 1, 1],\n",
       "        [1, 1, 1, 1, 1, 1, 1, 1, 1],\n",
       "        [1, 1, 1, 1, 1, 1, 1, 1, 1],\n",
       "        [1, 1, 1, 1, 1, 1, 1, 1, 1]]),\n",
       " <Wires = [0, 1, 2, 3, 4, 5, 6, 7, 8]>)"
      ]
     },
     "execution_count": 38,
     "metadata": {},
     "output_type": "execute_result"
    }
   ],
   "source": [
    "circuit(params), H.wires"
   ]
  },
  {
   "cell_type": "code",
   "execution_count": 39,
   "metadata": {},
   "outputs": [],
   "source": [
    "# print('Posible solucion optima:' + str(x))"
   ]
  },
  {
   "cell_type": "code",
   "execution_count": null,
   "metadata": {},
   "outputs": [],
   "source": []
  },
  {
   "cell_type": "code",
   "execution_count": null,
   "metadata": {},
   "outputs": [],
   "source": []
  }
 ],
 "metadata": {
  "kernelspec": {
   "display_name": "first-step-eRmzlgdf-py3.10",
   "language": "python",
   "name": "python3"
  },
  "language_info": {
   "codemirror_mode": {
    "name": "ipython",
    "version": 3
   },
   "file_extension": ".py",
   "mimetype": "text/x-python",
   "name": "python",
   "nbconvert_exporter": "python",
   "pygments_lexer": "ipython3",
   "version": "3.10.5"
  }
 },
 "nbformat": 4,
 "nbformat_minor": 2
}
