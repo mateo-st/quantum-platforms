{
 "cells": [
  {
   "cell_type": "code",
   "execution_count": 1,
   "id": "0a637cae-a5a7-4a5d-bbe3-6e58b75389de",
   "metadata": {},
   "outputs": [],
   "source": [
    "from mimiqcircuits import *\n",
    "import numpy as np\n",
    "from bitarray import bitarray, frozenbitarray\n",
    "import matplotlib.pyplot as plt\n",
    "import networkx as nx\n",
    "import random"
   ]
  },
  {
   "cell_type": "code",
   "execution_count": 2,
   "id": "66d04e8c-9286-4280-ba06-f38c1864f299",
   "metadata": {},
   "outputs": [
    {
     "name": "stdout",
     "output_type": "stream",
     "text": [
      "Starting authentication server on port 1444 (http://localhost:1444)\n"
     ]
    },
    {
     "name": "stderr",
     "output_type": "stream",
     "text": [
      "127.0.0.1 - - [07/Jun/2024 12:09:12] \"GET / HTTP/1.1\" 200 -\n",
      "127.0.0.1 - - [07/Jun/2024 12:09:12] \"GET /assets/index-07679c1c.js HTTP/1.1\" 200 -\n",
      "127.0.0.1 - - [07/Jun/2024 12:09:12] \"GET /assets/index-3c66e04b.css HTTP/1.1\" 200 -\n",
      "127.0.0.1 - - [07/Jun/2024 12:09:12] \"GET /assets/logo-141cb000.svg HTTP/1.1\" 200 -\n",
      "127.0.0.1 - - [07/Jun/2024 12:09:12] \"GET /assets/primeicons-3824be50.woff2 HTTP/1.1\" 200 -\n",
      "127.0.0.1 - - [07/Jun/2024 12:09:44] \"POST /api/login HTTP/1.1\" 200 -\n"
     ]
    }
   ],
   "source": [
    "conn = MimiqConnection()\n",
    "try:\n",
    "    conn.loadtoken()\n",
    "except:\n",
    "    conn.savetoken()\n",
    "    conn.loadtoken()"
   ]
  },
  {
   "cell_type": "markdown",
   "id": "e9361b54-cf42-4880-a334-31ad23e6a065",
   "metadata": {},
   "source": [
    "## Definitions of QUBO problem solvers"
   ]
  },
  {
   "cell_type": "code",
   "execution_count": 3,
   "id": "e8359a88-bf6a-48cd-bb6e-8c26ffa4e90a",
   "metadata": {},
   "outputs": [],
   "source": [
    "class QUBOProblem:\n",
    "    def __init__(self, Q):\n",
    "        if isinstance(Q, np.ndarray):\n",
    "            if len(Q.shape) != 2 or Q.shape[0] != Q.shape[1]:\n",
    "                raise ValueError(\"Q is not a valid square matrix.\")\n",
    "            self.Q = Q\n",
    "        elif isinstance(Q, nx.Graph):\n",
    "            self.Q = -nx.to_numpy_array(G)\n",
    "        else:\n",
    "            raise TypeError(f\"Cannot build QUBO problem for object of type {typeof(Q)}\")\n",
    "\n",
    "    def _gamma(self, epsilon, lmbda, val):\n",
    "        return epsilon * lmbda * val\n",
    "        \n",
    "    def _phaseseparator(self, c: Circuit, qubits, lmbda, epsilon):\n",
    "        Q = self.Q\n",
    "        for n in range(Q.shape[1]):\n",
    "            for i in range(Q.shape[0]-n):\n",
    "                j = i+n\n",
    "                coeff1 = self.Q[i,j]\n",
    "                gamma1 = self._gamma(epsilon, lmbda, coeff1)\n",
    "                coeff2 = self.Q[j,i]\n",
    "                gamma2 = self._gamma(epsilon, lmbda, coeff2)\n",
    "                if i==j:\n",
    "                    # diagonal elements\n",
    "                    if gamma1 != 0:\n",
    "                        c.push(GateP(gamma1), qubits[i])\n",
    "                elif coeff1 == coeff2:\n",
    "                    if gamma1 != 0:\n",
    "                       c.push(GateCP(2*gamma1), qubits[i], qubits[j])\n",
    "                else:\n",
    "                    # general case!\n",
    "                    if gamma1 != 0:\n",
    "                        c.push(GateCP(gamma1), qubits[i], qubits[j])\n",
    "                    if gamma2 != 0:\n",
    "                        c.push(GateCP(gamma2), qubits[i], qubits[j])   \n",
    "        return c\n",
    "\n",
    "    def _mixer(self, c: Circuit, qubits, lmbda, epsilon):\n",
    "    \tc.push(GateRX(epsilon * (1 - lmbda)), qubits)\n",
    "    \treturn c\n",
    "\n",
    "    def _initstate(self, c: Circuit, qubits):\n",
    "        # prepares the ground state of the mixer hamiltonian\n",
    "        c.push(GateRY(np.pi / 2), qubits)\n",
    "        return c\n",
    "\n",
    "    def build_circuit(self, depth, epsilon=0.5):\n",
    "        qubits = range(self.Q.shape[0])\n",
    "        c = Circuit()\n",
    "        self._initstate(c, qubits)\n",
    "        for k in range(depth-1):\n",
    "            lmbda = k / depth\n",
    "            self._phaseseparator(c, qubits, lmbda, epsilon)\n",
    "            self._mixer(c, qubits, lmbda, epsilon)\n",
    "        self._phaseseparator(c, qubits, 1, epsilon)\n",
    "        return c\n",
    "\n",
    "    def energy(self, bss):\n",
    "        if isinstance(bss, bitarray) or isinstance(bss, frozenbitarray):\n",
    "            bbs = np.array(bss.tolist())\n",
    "            return bbs.T @ self.Q @ bbs\n",
    "            \n",
    "        E = 0.0\n",
    "        for bs in bss:\n",
    "            bbs = np.array(bs.tolist())\n",
    "            E += bbs.T @ self.Q @ bbs\n",
    "        return E / len(bss)\n",
    "\n",
    "    def _solve(self, conn, k, samples=1000, **kwargs):\n",
    "        circ = self.build_circuit(k, **kwargs)\n",
    "        job = conn.execute(circ, nsamples=samples)\n",
    "        res = conn.get_results(job)\n",
    "        E = self.energy(res.cstates)\n",
    "        hist = res.histogram()\n",
    "        mps = max(hist, key=lambda k: hist[k])\n",
    "        return E, mps, res\n",
    "\n",
    "    def solve(self, conn, k, samples=1000, **kwargs):\n",
    "        E, mps, _ = self._solve(conn, k, samples=samples, **kwargs)\n",
    "        return E, mps\n",
    "\n",
    "    def solve_time(self, conn, k, samples=1000, **kwargs):\n",
    "        E, mps, res = self._solve(conn, k, samples=samples, **kwargs)\n",
    "        return E, mps, res.timings[\"total\"]\n"
   ]
  },
  {
   "cell_type": "code",
   "execution_count": 4,
   "id": "885d097a-8621-4e39-a3d5-7ff7e5c5086b",
   "metadata": {},
   "outputs": [
    {
     "data": {
      "text/plain": [
       "array([[-1,  0,  0,  1,  0],\n",
       "       [ 0, -1,  1,  0,  0],\n",
       "       [ 0,  1, -2,  1,  0],\n",
       "       [ 1,  0,  1, -3,  1],\n",
       "       [ 0,  0,  0,  1, -1]])"
      ]
     },
     "execution_count": 4,
     "metadata": {},
     "output_type": "execute_result"
    }
   ],
   "source": [
    "Q = np.array(\n",
    "    [\n",
    "        [-1, 0, 0, 1, 0],\n",
    "        [0, -1, 1, 0, 0],\n",
    "        [0, 1, -2, 1, 0],\n",
    "        [1, 0, 1, -3, 1],\n",
    "        [0, 0, 0, 1, -1],\n",
    "    ]\n",
    ")\n",
    "Q"
   ]
  },
  {
   "cell_type": "code",
   "execution_count": 5,
   "id": "a967402a-f3c8-4f5d-af8a-13488963af4d",
   "metadata": {},
   "outputs": [
    {
     "data": {
      "text/plain": [
       "<matplotlib.colorbar.Colorbar at 0x149363700>"
      ]
     },
     "execution_count": 5,
     "metadata": {},
     "output_type": "execute_result"
    },
    {
     "data": {
      "image/png": "[encoded data removed]",
      "text/plain": [
       "<Figure size 640x480 with 2 Axes>"
      ]
     },
     "metadata": {},
     "output_type": "display_data"
    }
   ],
   "source": [
    "prob = QUBOProblem(Q)\n",
    "\n",
    "# plot the problem\n",
    "plt.imshow(prob.Q)\n",
    "plt.xticks(range(prob.Q.shape[0]))\n",
    "plt.yticks(range(prob.Q.shape[1]))\n",
    "plt.colorbar()"
   ]
  },
  {
   "cell_type": "code",
   "execution_count": 7,
   "id": "a9b53a4e-93eb-4762-ae36-804b26da335b",
   "metadata": {},
   "outputs": [
    {
     "data": {
      "text/plain": [
       "-4"
      ]
     },
     "execution_count": 7,
     "metadata": {},
     "output_type": "execute_result"
    }
   ],
   "source": [
    "prob.energy(bitarray(\"10101\"))"
   ]
  },
  {
   "cell_type": "code",
   "execution_count": 8,
   "id": "5d15bb3b-9438-4b63-9a0e-e0ca5fd06633",
   "metadata": {},
   "outputs": [
    {
     "data": {
      "text/plain": [
       "(-3.951, frozenbitarray('01010'))"
      ]
     },
     "execution_count": 8,
     "metadata": {},
     "output_type": "execute_result"
    }
   ],
   "source": [
    "prob.solve(conn, 40)"
   ]
  },
  {
   "cell_type": "code",
   "execution_count": 29,
   "id": "fabb2353-6da8-47a7-b39a-e29049953838",
   "metadata": {},
   "outputs": [
    {
     "name": "stdout",
     "output_type": "stream",
     "text": [
      "Solved in 0.00223613 seconds\n"
     ]
    }
   ],
   "source": [
    "_, _, t = prob.solve_time(conn, 40)\n",
    "print(f\"Solved in {t} seconds\")"
   ]
  },
  {
   "cell_type": "code",
   "execution_count": null,
   "id": "ac6c47df",
   "metadata": {},
   "outputs": [],
   "source": []
  }
 ],
 "metadata": {
  "kernelspec": {
   "display_name": "basic-qubo-2hUiBxcz-py3.10",
   "language": "python",
   "name": "python3"
  },
  "language_info": {
   "codemirror_mode": {
    "name": "ipython",
    "version": 3
   },
   "file_extension": ".py",
   "mimetype": "text/x-python",
   "name": "python",
   "nbconvert_exporter": "python",
   "pygments_lexer": "ipython3",
   "version": "3.10.5"
  }
 },
 "nbformat": 4,
 "nbformat_minor": 5
}
