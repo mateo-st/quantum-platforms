{
 "cells": [
  {
   "cell_type": "code",
   "execution_count": 4,
   "metadata": {},
   "outputs": [],
   "source": [
    "import numpy as np\n",
    "import matplotlib.pyplot as plt"
   ]
  },
  {
   "cell_type": "code",
   "execution_count": 5,
   "metadata": {},
   "outputs": [],
   "source": [
    "Q1 = np.array(\n",
    "    [\n",
    "        [1, 0, 0, -1, 0],\n",
    "        [0, 1, -1, 0, 0],\n",
    "        [0, -1, 2, -1, 0],\n",
    "        [-1, 0, -1, 3, -1],\n",
    "        [0, 0, 0, -1, 1],\n",
    "    ]\n",
    ")\n",
    "\n",
    "Q = np.array(\n",
    "    [\n",
    "        [-1, 0, 0, 1, 0],\n",
    "        [0, -1, 1, 0, 0],\n",
    "        [0, 1, -2, 1, 0],\n",
    "        [1, 0, 1, -3, 1],\n",
    "        [0, 0, 0, 1, -1],\n",
    "    ]\n",
    ")\n",
    "\n",
    "# Q = np.array(\n",
    "#     [\n",
    "#         [-400, 200, 200, 200, 40, 75, 200, 16, 30],\n",
    "#         [200, -400, 200, 40, 200, 65, 16, 200, 26],\n",
    "#         [200, 200, -400, 75, 65, 200, 30, 26, 200],\n",
    "#         [200, 40, 75, -400, 200, 200, 200, 24, 45],\n",
    "#         [40, 200, 65, 200, -400, 200, 24, 200, 39],\n",
    "#         [75, 65, 200, 200, 200, -400, 45, 39, 200],\n",
    "#         [200, 16, 30, 200, 24, 45, -400, 200, 200],\n",
    "#         [16, 200, 26, 24, 200, 39, 200, -400, 200],\n",
    "#         [30, 26, 200, 45, 39, 200, 200, 200, -400]\n",
    "#     ]\n",
    "# )\n",
    "\n",
    "# Q = np.array(\n",
    "#     [\n",
    "#         [-17, 10, 10, 10, 0, 20],\n",
    "#         [10, -18, 10, 10, 10, 20],\n",
    "#         [10, 10, -29, 10, 20, 20],\n",
    "#         [10, 10, 10, -19, 10, 10],\n",
    "#         [0, 10, 20, 10, -17, 10],\n",
    "#         [20, 20, 20, 10, 10, -28],\n",
    "#     ]\n",
    "# )\n",
    "\n",
    "# Q = np.array(\n",
    "#     [\n",
    "#         [ 0.33238178,  0.71110609,  0.77935496,  0.08608269,  0.34538752,\n",
    "#           0.396309  ,  0.80440476,  0.4761453 ,  0.67879472,  0.54096635],\n",
    "#         [ 0.20097293,  0.85914785,  0.41081224,  0.54933708,  0.20204855,\n",
    "#           0.43064242,  0.50855973,  0.93393215,  0.39584614,  0.57093472],\n",
    "#         [ 0.77436678,  0.17862039,  0.31717006,  0.82574465,  0.4201976 ,\n",
    "#           0.13923964,  0.8395894 ,  0.95038424,  0.29887162,  0.7892533 ],\n",
    "#         [ 0.2170704 ,  0.24220269,  0.64795767,  0.29339071,  0.62833214,\n",
    "#           0.86641303,  0.01301108,  0.92873508,  0.69434157,  0.27015541],\n",
    "#         [ 0.15073815,  0.5405071 ,  0.39637836,  0.29568163,  0.9759256 ,\n",
    "#           0.60175794,  0.17640058,  0.20745214,  0.89765188,  0.2200234 ],\n",
    "#         [ 0.91901184,  0.18703679,  0.22096847,  0.65973117,  0.61056763,\n",
    "#           0.58274508,  0.54536777,  0.25497661,  0.20257432,  0.13725326],\n",
    "#         [ 0.26997641,  0.86518885,  0.69012418,  0.16535778,  0.45796371,\n",
    "#           0.1138151 ,  0.82662946,  0.85090229,  0.30349086,  0.8124713 ],\n",
    "#         [ 0.77853446,  0.2360468 ,  0.78625657,  0.33677153,  0.37326702,\n",
    "#           0.94238372,  0.84428258, -0.0700421 ,  0.17945607,  0.29113538],\n",
    "#         [ 0.63954903,  0.80184247,  0.40732346,  0.07691725,  0.99133115,\n",
    "#           0.31471357,  0.01426704,  0.51987379,  0.03470804,  0.02827739],\n",
    "#         [ 0.12428535,  0.37453286,  0.2987395 ,  0.49426541,  0.72701046,\n",
    "#           0.21253869,  0.90488741,  0.50866666,  0.69125163,  0.66309342]\n",
    "#     ]\n",
    "# )\n",
    "\n",
    "\n",
    "\n"
   ]
  },
  {
   "cell_type": "code",
   "execution_count": 6,
   "metadata": {},
   "outputs": [
    {
     "name": "stdout",
     "output_type": "stream",
     "text": [
      "[('01010', -4), ('10101', -4), ('00010', -3)]\n"
     ]
    }
   ],
   "source": [
    "bitstrings = [np.binary_repr(i, len(Q)) for i in range(2 ** len(Q))]\n",
    "costs = []\n",
    "# this takes exponential time with the dimension of the QUBO\n",
    "for b in bitstrings:\n",
    "    z = np.array(list(b), dtype=int)\n",
    "    cost = z.T @ Q @ z\n",
    "    costs.append(cost)\n",
    "zipped = zip(bitstrings, costs)\n",
    "sort_zipped = sorted(zipped, key=lambda x: x[1])\n",
    "print(sort_zipped[:3])"
   ]
  },
  {
   "cell_type": "code",
   "execution_count": 8,
   "metadata": {},
   "outputs": [
    {
     "data": {
      "text/plain": [
       "<matplotlib.colorbar.Colorbar at 0x11b4cb790>"
      ]
     },
     "execution_count": 8,
     "metadata": {},
     "output_type": "execute_result"
    },
    {
     "data": {
      "image/png": "[encoded data removed]",
      "text/plain": [
       "<Figure size 640x480 with 2 Axes>"
      ]
     },
     "metadata": {},
     "output_type": "display_data"
    }
   ],
   "source": [
    "plt.imshow(Q)\n",
    "plt.xticks(range(Q.shape[0]))\n",
    "plt.yticks(range(Q.shape[1]))\n",
    "plt.colorbar()"
   ]
  },
  {
   "cell_type": "code",
   "execution_count": null,
   "metadata": {},
   "outputs": [],
   "source": []
  },
  {
   "cell_type": "code",
   "execution_count": null,
   "metadata": {},
   "outputs": [],
   "source": []
  }
 ],
 "metadata": {
  "kernelspec": {
   "display_name": "basic-qubo-2hUiBxcz-py3.10",
   "language": "python",
   "name": "python3"
  },
  "language_info": {
   "codemirror_mode": {
    "name": "ipython",
    "version": 3
   },
   "file_extension": ".py",
   "mimetype": "text/x-python",
   "name": "python",
   "nbconvert_exporter": "python",
   "pygments_lexer": "ipython3",
   "version": "3.10.5"
  }
 },
 "nbformat": 4,
 "nbformat_minor": 2
}
