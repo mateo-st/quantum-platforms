{
 "cells": [
  {
   "cell_type": "markdown",
   "id": "c0db9b41-25be-4f95-a31a-5eb57de263e3",
   "metadata": {},
   "source": [
    "<div align=center>\n",
    "<img src=\"data:image/svg+xml;base64,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\" alt=\"QPerfect Banner\" style=\"width: 100%;\" />\n",
    "</div>"
   ]
  },
  {
   "cell_type": "markdown",
   "id": "7acaba63-e4d5-4020-a667-638d04e4c4cb",
   "metadata": {},
   "source": [
    "# QUBO Problems with MIMIQ"
   ]
  },
  {
   "cell_type": "markdown",
   "id": "efc208f9-ca68-4c90-a90f-725579d82fd2",
   "metadata": {},
   "source": [
    "Copyright © 2024, QPefect. All rights Reserved."
   ]
  },
  {
   "cell_type": "markdown",
   "id": "e29ce37a-e0ff-4e1d-8147-22b716a53b82",
   "metadata": {},
   "source": [
    "## Installation\n",
    "\n",
    "MIMIQ Circuits is compatible with Python 3.9 or later versions.\n",
    "\n",
    "Here, MIMIQ Circuits is installed in the environment running the current Jupyter kernel.\n",
    "The full installation, as shown here, includes visualization tools."
   ]
  },
  {
   "cell_type": "code",
   "execution_count": 2,
   "id": "07d01f46-a425-4a6e-b38a-f8a4412b6731",
   "metadata": {},
   "outputs": [
    {
     "name": "stdout",
     "output_type": "stream",
     "text": [
      "\u001b[1;31merror\u001b[0m: \u001b[1mexternally-managed-environment\u001b[0m\n",
      "\n",
      "\u001b[31m×\u001b[0m This environment is externally managed\n",
      "\u001b[31m╰─>\u001b[0m To install Python packages system-wide, try 'pacman -S\n",
      "\u001b[31m   \u001b[0m python-xyz', where xyz is the package you are trying to\n",
      "\u001b[31m   \u001b[0m install.\n",
      "\u001b[31m   \u001b[0m \n",
      "\u001b[31m   \u001b[0m If you wish to install a non-Arch-packaged Python package,\n",
      "\u001b[31m   \u001b[0m create a virtual environment using 'python -m venv path/to/venv'.\n",
      "\u001b[31m   \u001b[0m Then use path/to/venv/bin/python and path/to/venv/bin/pip.\n",
      "\u001b[31m   \u001b[0m \n",
      "\u001b[31m   \u001b[0m If you wish to install a non-Arch packaged Python application,\n",
      "\u001b[31m   \u001b[0m it may be easiest to use 'pipx install xyz', which will manage a\n",
      "\u001b[31m   \u001b[0m virtual environment for you. Make sure you have python-pipx\n",
      "\u001b[31m   \u001b[0m installed via pacman.\n",
      "\n",
      "\u001b[1;35mnote\u001b[0m: If you believe this is a mistake, please contact your Python installation or OS distribution provider. You can override this, at the risk of breaking your Python installation or OS, by passing --break-system-packages.\n",
      "\u001b[1;36mhint\u001b[0m: See PEP 668 for the detailed specification.\n"
     ]
    }
   ],
   "source": [
    "# !pip3 install \"mimiqcircuits[visualization] @ git+https://github.com/qperfect-io/mimiqcircuits-python.git\" > /dev/null"
   ]
  },
  {
   "cell_type": "markdown",
   "id": "fd15194a-1a7f-464c-8141-f9f7fa11c80d",
   "metadata": {},
   "source": [
    "## Importing MIMIQ Circuits\n",
    "\n",
    "MIMIQ is a quantum computer simulation framework developed by QPerfect. The quantum circuit simulation capabilities of MIMIQ are included in the `mimiqcircuits-python` and `MimiqCircuits.jl` libraries, respectively, in Python and [Julia](https://julialang.org)."
   ]
  },
  {
   "cell_type": "code",
   "execution_count": 1,
   "id": "0a637cae-a5a7-4a5d-bbe3-6e58b75389de",
   "metadata": {},
   "outputs": [],
   "source": [
    "from mimiqcircuits import *"
   ]
  },
  {
   "cell_type": "markdown",
   "id": "d7d9f043-5552-4d8a-8034-31f6c0f3e82c",
   "metadata": {},
   "source": [
    "We import other libraries such as `numpy`, for linear algebra."
   ]
  },
  {
   "cell_type": "code",
   "execution_count": 2,
   "id": "759ea175-7aad-4c76-9ff3-d65d009285ab",
   "metadata": {},
   "outputs": [],
   "source": [
    "import numpy as np\n",
    "from bitarray import bitarray, frozenbitarray\n",
    "import matplotlib.pyplot as plt\n",
    "import networkx as nx\n",
    "import random"
   ]
  },
  {
   "cell_type": "markdown",
   "id": "046f0ec4-a591-43c4-8252-bf2da11f5193",
   "metadata": {},
   "source": [
    "MIMIQ will attempt to connect with the remote services using the credentials stored in a `qperfect.json` file. If this is not possible, will attempt to recreate such file by opening a new window to ask for username and password for QPerfect remote services.\n",
    "\n",
    "There are also other ways for connecting:\n",
    "\n",
    "* `conn.connectUser(\"username\", \"password\")` for login directly with creedentials\n",
    "* `conn.connect()` for launching a webpage to insert username and passord."
   ]
  },
  {
   "cell_type": "code",
   "execution_count": 3,
   "id": "66d04e8c-9286-4280-ba06-f38c1864f299",
   "metadata": {},
   "outputs": [
    {
     "name": "stdout",
     "output_type": "stream",
     "text": [
      "Starting authentication server on port 1444 (http://localhost:1444)\n"
     ]
    },
    {
     "name": "stderr",
     "output_type": "stream",
     "text": [
      "127.0.0.1 - - [06/Jun/2024 16:03:09] \"GET / HTTP/1.1\" 200 -\n",
      "127.0.0.1 - - [06/Jun/2024 16:03:09] \"GET /assets/index-07679c1c.js HTTP/1.1\" 200 -\n",
      "127.0.0.1 - - [06/Jun/2024 16:03:09] \"GET /assets/index-3c66e04b.css HTTP/1.1\" 200 -\n",
      "127.0.0.1 - - [06/Jun/2024 16:03:09] \"GET /assets/index-07679c1c.js HTTP/1.1\" 200 -\n",
      "127.0.0.1 - - [06/Jun/2024 16:03:09] \"GET /assets/logo-141cb000.svg HTTP/1.1\" 200 -\n",
      "127.0.0.1 - - [06/Jun/2024 16:03:09] \"GET /assets/primeicons-3824be50.woff2 HTTP/1.1\" 200 -\n",
      "127.0.0.1 - - [06/Jun/2024 16:03:09] \"GET /favicon.ico HTTP/1.1\" 200 -\n",
      "127.0.0.1 - - [06/Jun/2024 16:03:55] \"POST /api/login HTTP/1.1\" 200 -\n"
     ]
    }
   ],
   "source": [
    "conn = MimiqConnection()\n",
    "try:\n",
    "    conn.loadtoken()\n",
    "except:\n",
    "    conn.savetoken()\n",
    "    conn.loadtoken()"
   ]
  },
  {
   "cell_type": "markdown",
   "id": "e9361b54-cf42-4880-a334-31ad23e6a065",
   "metadata": {},
   "source": [
    "## Definitions of QUBO problem solvers"
   ]
  },
  {
   "cell_type": "code",
   "execution_count": 4,
   "id": "e8359a88-bf6a-48cd-bb6e-8c26ffa4e90a",
   "metadata": {},
   "outputs": [],
   "source": [
    "class QUBOProblem:\n",
    "    def __init__(self, Q):\n",
    "        if isinstance(Q, np.ndarray):\n",
    "            if len(Q.shape) != 2 or Q.shape[0] != Q.shape[1]:\n",
    "                raise ValueError(\"Q is not a valid square matrix.\")\n",
    "            self.Q = Q\n",
    "        elif isinstance(Q, nx.Graph):\n",
    "            self.Q = -nx.to_numpy_array(G)\n",
    "        else:\n",
    "            raise TypeError(f\"Cannot build QUBO problem for object of type {typeof(Q)}\")\n",
    "\n",
    "    def _gamma(self, epsilon, lmbda, val):\n",
    "        return epsilon * lmbda * val\n",
    "        \n",
    "    def _phaseseparator(self, c: Circuit, qubits, lmbda, epsilon):\n",
    "        Q = self.Q\n",
    "        for n in range(Q.shape[1]):\n",
    "            for i in range(Q.shape[0]-n):\n",
    "                j = i+n\n",
    "                coeff1 = self.Q[i,j]\n",
    "                gamma1 = self._gamma(epsilon, lmbda, coeff1)\n",
    "                coeff2 = self.Q[j,i]\n",
    "                gamma2 = self._gamma(epsilon, lmbda, coeff2)\n",
    "                if i==j:\n",
    "                    # diagonal elements\n",
    "                    if gamma1 != 0:\n",
    "                        c.push(GateP(gamma1), qubits[i])\n",
    "                elif coeff1 == coeff2:\n",
    "                    if gamma1 != 0:\n",
    "                       c.push(GateCP(2*gamma1), qubits[i], qubits[j])\n",
    "                else:\n",
    "                    # general case!\n",
    "                    if gamma1 != 0:\n",
    "                        c.push(GateCP(gamma1), qubits[i], qubits[j])\n",
    "                    if gamma2 != 0:\n",
    "                        c.push(GateCP(gamma2), qubits[i], qubits[j])   \n",
    "        return c\n",
    "\n",
    "    def _mixer(self, c: Circuit, qubits, lmbda, epsilon):\n",
    "    \tc.push(GateRX(epsilon * (1 - lmbda)), qubits)\n",
    "    \treturn c\n",
    "\n",
    "    def _initstate(self, c: Circuit, qubits):\n",
    "        # prepares the ground state of the mixer hamiltonian\n",
    "        c.push(GateRY(np.pi / 2), qubits)\n",
    "        return c\n",
    "\n",
    "    def build_circuit(self, depth, epsilon=0.5):\n",
    "        qubits = range(self.Q.shape[0])\n",
    "        c = Circuit()\n",
    "        self._initstate(c, qubits)\n",
    "        for k in range(depth-1):\n",
    "            lmbda = k / depth\n",
    "            self._phaseseparator(c, qubits, lmbda, epsilon)\n",
    "            self._mixer(c, qubits, lmbda, epsilon)\n",
    "        self._phaseseparator(c, qubits, 1, epsilon)\n",
    "        return c\n",
    "\n",
    "    def energy(self, bss):\n",
    "        if isinstance(bss, bitarray) or isinstance(bss, frozenbitarray):\n",
    "            bbs = np.array(bss.tolist())\n",
    "            return bbs.T @ self.Q @ bbs\n",
    "            \n",
    "        E = 0.0\n",
    "        for bs in bss:\n",
    "            bbs = np.array(bs.tolist())\n",
    "            E += bbs.T @ self.Q @ bbs\n",
    "        return E / len(bss)\n",
    "\n",
    "    def _solve(self, conn, k, samples=1000, **kwargs):\n",
    "        circ = self.build_circuit(k, **kwargs)\n",
    "        job = conn.execute(circ, nsamples=samples)\n",
    "        res = conn.get_results(job)\n",
    "        E = self.energy(res.cstates)\n",
    "        hist = res.histogram()\n",
    "        mps = max(hist, key=lambda k: hist[k])\n",
    "        return E, mps, res\n",
    "\n",
    "    def solve(self, conn, k, samples=1000, **kwargs):\n",
    "        E, mps, _ = self._solve(conn, k, samples=samples, **kwargs)\n",
    "        return E, mps\n",
    "\n",
    "    def solve_time(self, conn, k, samples=1000, **kwargs):\n",
    "        E, mps, res = self._solve(conn, k, samples=samples, **kwargs)\n",
    "        return E, mps, res.timings[\"total\"]\n"
   ]
  },
  {
   "cell_type": "markdown",
   "id": "ac25be32-193f-441e-ac47-cbc327b9a8d9",
   "metadata": {},
   "source": [
    "# Digital adiabatic (QAOA-like) solver\n",
    "\n",
    "The algorithm is made of three main pices:\n",
    "\n",
    "* A system of qubits. One for every node in the graph.\n",
    "\n",
    "* A mixing operator\n",
    "\n",
    "$$\n",
    "U^H_M(\\beta) = \\mathrm{e}^{-\\imath \\beta B}\n",
    "\\qquad\n",
    "B = \\sum_{j=1}^n X_j\n",
    "$$\n",
    "\n",
    "* A Phase separator, which encodes the details of the max cut problem\n",
    "\n",
    "$$\n",
    "U_P(\\gamma) = \\mathrm{e}^{-\\imath \\gamma H_P}\n",
    "\\qquad\n",
    "H_P = -\\sum_{\\{u,v\\} \\in E} J_{uv} Z_u Z_v\n",
    "$$\n",
    "\n",
    "Here  $Z_i$ ($X_i$) are the pauli-$Z$ ($X$) rotations applied on qubit $i$, while $E$ is the set of edges of the graph, and $J_{uv}$ are the coefficients computed fror the QUBO problem.\n",
    "\n",
    "First, we encode the problem such that the optimal solution is the ground state of $H_P$. Then we prepare the system in the ground state of the mixing operator (easy to do), and then we apply alternating $U_P(\\gamma)$ and $U_M(\\beta)$ terms, such that, the evolution of the initial state is:\n",
    "\n",
    "$$\n",
    "U_M(\\beta_j) U_P(\\gamma_j) \\cdots U_M(\\beta_1) U_P(\\gamma_1) \\ket{\\psi}\n",
    "$$\n",
    "\n",
    "A simple choice for the parameters is:\n",
    "\n",
    "* $\\beta_j = 1 - \\lambda_j$\n",
    "* $\\gamma_j = \\lambda_j$\n",
    "* $\\lambda_j$ is a monotonic increasing function of $j$\n",
    "\n",
    "With this choice, at every iteration we slowly \"turn on\" the hamiltonian $H_P$ while turning off $H_M$. For small enough steps, the algorithm will converge to the ground state of $H_p$."
   ]
  },
  {
   "cell_type": "markdown",
   "id": "912574cf-bb84-4bcf-a729-671932839aaf",
   "metadata": {},
   "source": [
    "## Example 1\n",
    "\n",
    "Let's build a QUBO problem with 4 qubits.\n",
    "\n",
    "Taken from  _Hadfield, S. et al. From the Quantum Approximate Optimization Algorithm to a Quantum Alternating Operator Ansatz. Algorithms 12, 34 (2019)_"
   ]
  },
  {
   "cell_type": "code",
   "execution_count": 5,
   "id": "885d097a-8621-4e39-a3d5-7ff7e5c5086b",
   "metadata": {},
   "outputs": [
    {
     "data": {
      "text/plain": [
       "array([[-5,  2,  4,  0],\n",
       "       [ 2, -3,  1,  0],\n",
       "       [ 4,  1, -8,  5],\n",
       "       [ 0,  0,  5, -6]])"
      ]
     },
     "execution_count": 5,
     "metadata": {},
     "output_type": "execute_result"
    }
   ],
   "source": [
    "Q = np.array([[-5,2,4,0],[2,-3,1,0],[4,1,-8,5],[0,0,5,-6]])\n",
    "Q"
   ]
  },
  {
   "cell_type": "code",
   "execution_count": 6,
   "id": "a967402a-f3c8-4f5d-af8a-13488963af4d",
   "metadata": {},
   "outputs": [
    {
     "data": {
      "text/plain": [
       "<matplotlib.colorbar.Colorbar at 0x12ef837f0>"
      ]
     },
     "execution_count": 6,
     "metadata": {},
     "output_type": "execute_result"
    },
    {
     "data": {
      "image/png": "[encoded data removed]",
      "text/plain": [
       "<Figure size 640x480 with 2 Axes>"
      ]
     },
     "metadata": {},
     "output_type": "display_data"
    }
   ],
   "source": [
    "prob = QUBOProblem(Q)\n",
    "\n",
    "# plot the problem\n",
    "plt.imshow(prob.Q)\n",
    "plt.xticks(range(prob.Q.shape[0]))\n",
    "plt.yticks(range(prob.Q.shape[1]))\n",
    "plt.colorbar()"
   ]
  },
  {
   "cell_type": "markdown",
   "id": "52f26153-99a5-47d6-84e2-a507df858de6",
   "metadata": {},
   "source": [
    "The bitstring `1001` is the exact solution (with energy -11) of the QUBO problem."
   ]
  },
  {
   "cell_type": "code",
   "execution_count": 7,
   "id": "a9b53a4e-93eb-4762-ae36-804b26da335b",
   "metadata": {},
   "outputs": [
    {
     "data": {
      "text/plain": [
       "-11"
      ]
     },
     "execution_count": 7,
     "metadata": {},
     "output_type": "execute_result"
    }
   ],
   "source": [
    "prob.energy(bitarray(\"1001\"))"
   ]
  },
  {
   "cell_type": "code",
   "execution_count": 8,
   "id": "5d15bb3b-9438-4b63-9a0e-e0ca5fd06633",
   "metadata": {},
   "outputs": [
    {
     "data": {
      "text/plain": [
       "(-10.723, frozenbitarray('1001'))"
      ]
     },
     "execution_count": 8,
     "metadata": {},
     "output_type": "execute_result"
    }
   ],
   "source": [
    "prob.solve(conn, 40)"
   ]
  },
  {
   "cell_type": "code",
   "execution_count": 11,
   "id": "fabb2353-6da8-47a7-b39a-e29049953838",
   "metadata": {},
   "outputs": [
    {
     "name": "stdout",
     "output_type": "stream",
     "text": [
      "Solved in 0.004302732 seconds\n"
     ]
    }
   ],
   "source": [
    "_, _, t = prob.solve_time(conn, 40)\n",
    "print(f\"Solved in {t} seconds\")"
   ]
  },
  {
   "cell_type": "markdown",
   "id": "b3e0d0dd-0325-44b8-b5d6-de88c64766d4",
   "metadata": {},
   "source": [
    "## Example 2\n",
    "\n",
    "Let's build a QUBO problem with 8 qubits.\n",
    "\n",
    "Taken from _Hadfield, S. et al. From the Quantum Approximate Optimization Algorithm to a Quantum Alternating Operator Ansatz. Algorithms 12, 34 (2019)_"
   ]
  },
  {
   "cell_type": "code",
   "execution_count": 9,
   "id": "23764fb8-5805-4d2b-8599-a72eeae9e774",
   "metadata": {},
   "outputs": [],
   "source": [
    "Q8 = np.array([\n",
    "    [-3525, 175, 325, 775, 1050, 425, 525, 250],\n",
    "    [175, -1113, 91, 217, 294, 119, 147, 70],\n",
    "    [325, 91, -1989, 403, 546, 221, 273, 130],\n",
    "    [775, 217, 403, -4185, 1302, 527, 651, 310],\n",
    "    [1050, 294, 546, 1302, -5208, 714, 882, 420],\n",
    "    [425, 119, 221, 527, 714, -2533, 357, 170],\n",
    "    [525, 147, 273, 651, 882, 357, -3045, 210],\n",
    "    [250, 70, 130, 310, 420, 170, 210, -1560]\n",
    "])"
   ]
  },
  {
   "cell_type": "code",
   "execution_count": 10,
   "id": "bff1f603-2ba9-4213-9dae-0364a9df27f4",
   "metadata": {},
   "outputs": [
    {
     "data": {
      "text/plain": [
       "<matplotlib.colorbar.Colorbar at 0x12f949f00>"
      ]
     },
     "execution_count": 10,
     "metadata": {},
     "output_type": "execute_result"
    },
    {
     "data": {
      "image/png": "[encoded data removed]",
      "text/plain": [
       "<Figure size 640x480 with 2 Axes>"
      ]
     },
     "metadata": {},
     "output_type": "display_data"
    }
   ],
   "source": [
    "prob8 = QUBOProblem(Q8)\n",
    "\n",
    "# plot the problem\n",
    "plt.imshow(prob8.Q)\n",
    "plt.xticks(range(prob8.Q.shape[0]))\n",
    "plt.yticks(range(prob8.Q.shape[1]))\n",
    "plt.colorbar()"
   ]
  },
  {
   "cell_type": "code",
   "execution_count": 11,
   "id": "2b8c0af1-3b59-45a8-b038-127b778ba35f",
   "metadata": {},
   "outputs": [
    {
     "data": {
      "text/plain": [
       "-6889"
      ]
     },
     "execution_count": 11,
     "metadata": {},
     "output_type": "execute_result"
    }
   ],
   "source": [
    "prob8.energy(bitarray(\"00011001\"))"
   ]
  },
  {
   "cell_type": "code",
   "execution_count": 14,
   "id": "e5472949-6432-4bdd-91c9-e6b546c5515e",
   "metadata": {},
   "outputs": [
    {
     "data": {
      "text/plain": [
       "(-5913.272, frozenbitarray('01111010'))"
      ]
     },
     "execution_count": 14,
     "metadata": {},
     "output_type": "execute_result"
    }
   ],
   "source": [
    "prob8.solve(conn, 40)"
   ]
  },
  {
   "cell_type": "code",
   "execution_count": 13,
   "id": "07632803-47ab-4471-9a7a-ffc2985664dd",
   "metadata": {},
   "outputs": [
    {
     "name": "stdout",
     "output_type": "stream",
     "text": [
      "Solved in 0.001960868 seconds\n"
     ]
    }
   ],
   "source": [
    "_, _, t = prob.solve_time(conn, 40)\n",
    "print(f\"Solved in {t} seconds\")"
   ]
  },
  {
   "cell_type": "code",
   "execution_count": null,
   "id": "2fd91d3c-c8f1-4bc7-a351-b50bc2092d0e",
   "metadata": {},
   "outputs": [],
   "source": []
  }
 ],
 "metadata": {
  "kernelspec": {
   "display_name": "basic-qubo-2hUiBxcz-py3.10",
   "language": "python",
   "name": "python3"
  },
  "language_info": {
   "codemirror_mode": {
    "name": "ipython",
    "version": 3
   },
   "file_extension": ".py",
   "mimetype": "text/x-python",
   "name": "python",
   "nbconvert_exporter": "python",
   "pygments_lexer": "ipython3",
   "version": "3.10.5"
  }
 },
 "nbformat": 4,
 "nbformat_minor": 5
}
