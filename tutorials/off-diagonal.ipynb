{
 "cells": [
  {
   "cell_type": "code",
   "execution_count": 14,
   "metadata": {},
   "outputs": [
    {
     "name": "stdout",
     "output_type": "stream",
     "text": [
      "Términos off-diagonales de H:\n",
      " [[ 0  0  0  1  0]\n",
      " [ 0  0  1  0  0]\n",
      " [ 0  1  0  1  0]\n",
      " [ 1  0 -1  0  1]\n",
      " [ 0  0  0  1  0]]\n",
      "Estado fundamental (vector):\n",
      " [-0.23633867-0.13560789j  0.28645039-0.07168674j -0.64250073-0.j\n",
      "  0.42722464+0.4110817j  -0.23633867-0.13560789j]\n",
      "Valor de energía mínima (autovalor):\n",
      " (-3.1107769895788078-0.5282405895199751j)\n",
      "Bitstrings óptimos:\n",
      " [0. 0. 1. 1. 0.]\n",
      "Sumatoria de los términos off-diagonales:\n",
      " 6\n"
     ]
    }
   ],
   "source": [
    "import numpy as np\n",
    "from scipy.optimize import minimize\n",
    "from scipy.linalg import eig\n",
    "\n",
    "# Definir el Hamiltoniano H como una matriz\n",
    "H = np.array([\n",
    "    [-1, 0, 0, 1, 0],\n",
    "    [0, -1, 1, 0, 0],\n",
    "    [0, 1, -2, 1, 0],\n",
    "    [1, 0, -1, -3, 1],\n",
    "    [0, 0, 0, 1, -1],\n",
    "  ])\n",
    "\n",
    "# Paso 1: Verificar los términos off-diagonales\n",
    "off_diagonal_terms = H - np.diag(np.diagonal(H))\n",
    "print(\"Términos off-diagonales de H:\\n\", off_diagonal_terms)\n",
    "\n",
    "# Paso 2: Encontrar el estado fundamental\n",
    "# Utilizando un método de diagonalización para encontrar autovalores y autovectores\n",
    "eigenvalues, eigenvectors = eig(H)\n",
    "ground_state_index = np.argmin(eigenvalues)\n",
    "ground_state = eigenvectors[:, ground_state_index]\n",
    "print(\"Estado fundamental (vector):\\n\", ground_state)\n",
    "print(\"Valor de energía mínima (autovalor):\\n\", eigenvalues[ground_state_index])\n",
    "\n",
    "# Paso 3: Convertir el estado fundamental en bitstrings óptimos\n",
    "# En este ejemplo simplificado, interpretaremos el estado fundamental directamente.\n",
    "# En un contexto más complejo, podríamos necesitar un mapeo adicional.\n",
    "optimal_bitstrings = np.round(np.abs(ground_state))\n",
    "print(\"Bitstrings óptimos:\\n\", optimal_bitstrings)\n",
    "\n",
    "# Verificar la sumatoria de los términos off-diagonales\n",
    "# Aquí simplemente sumamos los términos off-diagonales como ejemplo\n",
    "sum_off_diagonal = np.sum(off_diagonal_terms)\n",
    "print(\"Sumatoria de los términos off-diagonales:\\n\", sum_off_diagonal)"
   ]
  },
  {
   "cell_type": "code",
   "execution_count": 18,
   "metadata": {},
   "outputs": [
    {
     "data": {
      "text/plain": [
       "(-3.1107769895788078-0.5282405895199751j)"
      ]
     },
     "execution_count": 18,
     "metadata": {},
     "output_type": "execute_result"
    }
   ],
   "source": [
    "eigenvalues[ground_state_index]"
   ]
  }
 ],
 "metadata": {
  "kernelspec": {
   "display_name": "basic-qubo-2hUiBxcz-py3.10",
   "language": "python",
   "name": "python3"
  },
  "language_info": {
   "codemirror_mode": {
    "name": "ipython",
    "version": 3
   },
   "file_extension": ".py",
   "mimetype": "text/x-python",
   "name": "python",
   "nbconvert_exporter": "python",
   "pygments_lexer": "ipython3",
   "version": "3.10.5"
  }
 },
 "nbformat": 4,
 "nbformat_minor": 2
}
