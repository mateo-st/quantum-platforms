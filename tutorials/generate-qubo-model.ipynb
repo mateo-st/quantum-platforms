{
 "cells": [
  {
   "cell_type": "code",
   "execution_count": 50,
   "metadata": {},
   "outputs": [
    {
     "name": "stderr",
     "output_type": "stream",
     "text": [
      "/var/folders/y9/h6266tlx7n9bd2_vpvfqrttns60r8r/T/ipykernel_13242/17714155.py:3: DeprecationWarning: bqm.to_numpy_matrix() is deprecated since dimod 0.10.0 and will be removed in 0.12.0\n",
      "  bqm.to_numpy_matrix()\n"
     ]
    },
    {
     "data": {
      "text/plain": [
       "array([[ 21., 217., 345., 872., 293., 442., 459., 973.,  26., 501.],\n",
       "       [  0., 364., 958., 695., 884., 594., 858., 835., 290., 401.],\n",
       "       [  0.,   0., 642., 210., 945., 730., 633., 212., 564., 547.],\n",
       "       [  0.,   0.,   0., 972., 672., 394.,  89., 989., 540., 301.],\n",
       "       [  0.,   0.,   0.,   0., 680., 551., 600., 468., 897.,  10.],\n",
       "       [  0.,   0.,   0.,   0.,   0., 178., 390., 324., 956., 385.],\n",
       "       [  0.,   0.,   0.,   0.,   0.,   0., 277., 751., 838., 603.],\n",
       "       [  0.,   0.,   0.,   0.,   0.,   0.,   0., 969., 495., 804.],\n",
       "       [  0.,   0.,   0.,   0.,   0.,   0.,   0.,   0., 973.,  68.],\n",
       "       [  0.,   0.,   0.,   0.,   0.,   0.,   0.,   0.,   0., 131.]])"
      ]
     },
     "execution_count": 50,
     "metadata": {},
     "output_type": "execute_result"
    }
   ],
   "source": [
    "import dimod\n",
    "bqm = dimod.generators.randint(10, vartype=dimod.BINARY, high=1000, low=0)\n",
    "bqm.to_numpy_matrix()"
   ]
  },
  {
   "cell_type": "code",
   "execution_count": 47,
   "metadata": {},
   "outputs": [
    {
     "data": {
      "text/plain": [
       "BinaryQuadraticModel({0: 4.0, 1: -5.0, 2: -3.0, 3: -10.0, 4: 1.0, 5: 0.0, 6: 7.0, 7: -1.0, 8: 10.0, 9: -8.0}, {(1, 0): -1.0, (2, 0): 5.0, (2, 1): 4.0, (3, 0): 1.0, (3, 1): 3.0, (3, 2): -6.0, (4, 0): -8.0, (4, 1): 0.0, (4, 2): -1.0, (4, 3): -4.0, (5, 0): 4.0, (5, 1): 1.0, (5, 2): 10.0, (5, 3): -4.0, (5, 4): -4.0, (6, 0): 6.0, (6, 1): 10.0, (6, 2): 9.0, (6, 3): -10.0, (6, 4): 7.0, (6, 5): -6.0, (7, 0): 2.0, (7, 1): 3.0, (7, 2): -3.0, (7, 3): 5.0, (7, 4): -10.0, (7, 5): 2.0, (7, 6): -3.0, (8, 0): -10.0, (8, 1): -1.0, (8, 2): 10.0, (8, 3): -3.0, (8, 4): 1.0, (8, 5): 0.0, (8, 6): 2.0, (8, 7): 7.0, (9, 0): 1.0, (9, 1): 7.0, (9, 2): 0.0, (9, 3): -6.0, (9, 4): -9.0, (9, 5): 9.0, (9, 6): 8.0, (9, 7): -1.0, (9, 8): 3.0}, 10.0, 'BINARY')"
      ]
     },
     "execution_count": 47,
     "metadata": {},
     "output_type": "execute_result"
    }
   ],
   "source": [
    "bqm"
   ]
  },
  {
   "cell_type": "code",
   "execution_count": 49,
   "metadata": {},
   "outputs": [
    {
     "ename": "TypeError",
     "evalue": "binary_encoding() missing 1 required positional argument: 'upper_bound'",
     "output_type": "error",
     "traceback": [
      "\u001b[0;31m---------------------------------------------------------------------------\u001b[0m",
      "\u001b[0;31mTypeError\u001b[0m                                 Traceback (most recent call last)",
      "Cell \u001b[0;32mIn[49], line 1\u001b[0m\n\u001b[0;32m----> 1\u001b[0m \u001b[43mdimod\u001b[49m\u001b[38;5;241;43m.\u001b[39;49m\u001b[43mgenerators\u001b[49m\u001b[38;5;241;43m.\u001b[39;49m\u001b[43mbinary_encoding\u001b[49m\u001b[43m(\u001b[49m\u001b[38;5;241;43m6\u001b[39;49m\u001b[43m)\u001b[49m\n\u001b[1;32m      2\u001b[0m \u001b[38;5;66;03m# bqm1.to_numpy_matrix()\u001b[39;00m\n",
      "\u001b[0;31mTypeError\u001b[0m: binary_encoding() missing 1 required positional argument: 'upper_bound'"
     ]
    }
   ],
   "source": [
    "dimod.generators.binary_encoding(6)\n",
    "# bqm1.to_numpy_matrix()"
   ]
  }
 ],
 "metadata": {
  "kernelspec": {
   "display_name": "basic-qubo-2hUiBxcz-py3.10",
   "language": "python",
   "name": "python3"
  },
  "language_info": {
   "codemirror_mode": {
    "name": "ipython",
    "version": 3
   },
   "file_extension": ".py",
   "mimetype": "text/x-python",
   "name": "python",
   "nbconvert_exporter": "python",
   "pygments_lexer": "ipython3",
   "version": "3.10.5"
  }
 },
 "nbformat": 4,
 "nbformat_minor": 2
}
