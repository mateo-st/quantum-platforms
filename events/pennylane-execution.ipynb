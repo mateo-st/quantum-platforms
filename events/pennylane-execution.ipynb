{
 "cells": [
  {
   "cell_type": "markdown",
   "metadata": {},
   "source": [
    "Following this tutorial: https://www.youtube.com/watch?v=LhbDMv3iA9s"
   ]
  },
  {
   "cell_type": "code",
   "execution_count": 1,
   "metadata": {},
   "outputs": [
    {
     "data": {
      "text/plain": [
       "(\n",
       "    -6 * I(1)\n",
       "  + (0.5 * Z(1)) @ Z(4)\n",
       "  + (0.5 * Z(2)) @ Z(3)\n",
       "  + (0.5 * Z(4)) @ Z(5)\n",
       "  + (0.5 * Z(3)) @ Z(4)\n",
       ")"
      ]
     },
     "execution_count": 1,
     "metadata": {},
     "output_type": "execute_result"
    }
   ],
   "source": [
    "import pennylane as qml\n",
    "from pennylane import numpy as np\n",
    "\n",
    "# Change the signs of the formation because we set the problem to find a minimum\n",
    "H = -6 * qml.Identity(1) +\\\n",
    "  0.5 * qml.PauliZ(1) @ qml.PauliZ(4) +\\\n",
    "  0.5 * qml.PauliZ(2) @ qml.PauliZ(3) +\\\n",
    "  0.5 * qml.PauliZ(4) @ qml.PauliZ(5) +\\\n",
    "  0.5 * qml.PauliZ(3) @ qml.PauliZ(4)\n",
    "H"
   ]
  },
  {
   "cell_type": "code",
   "execution_count": 2,
   "metadata": {},
   "outputs": [],
   "source": [
    "# Set up a quantum device\n",
    "dev = qml.device('default.qubit', wires=H.wires)"
   ]
  },
  {
   "cell_type": "code",
   "execution_count": 3,
   "metadata": {},
   "outputs": [],
   "source": [
    "# Quantum function to evaluate the QUBO problem\n",
    "@qml.qnode(dev)\n",
    "def circuit(params):\n",
    "    for param, wire in zip(params, H.wires):\n",
    "        qml.RY(param, wires=wire)\n",
    "    return qml.expval(H)"
   ]
  },
  {
   "cell_type": "code",
   "execution_count": 4,
   "metadata": {},
   "outputs": [
    {
     "data": {
      "text/plain": [
       "tensor(-4., requires_grad=True)"
      ]
     },
     "execution_count": 4,
     "metadata": {},
     "output_type": "execute_result"
    }
   ],
   "source": [
    "circuit([0,0,0,0,0])"
   ]
  },
  {
   "cell_type": "code",
   "execution_count": 5,
   "metadata": {},
   "outputs": [
    {
     "name": "stdout",
     "output_type": "stream",
     "text": [
      "1: ──RY(0.00)─┤ ╭<(-6.00*I)+((0.50*Z)@Z)+((0.50*Z)@Z)+((0.50*Z)@Z)+((0.50*Z)@Z)>\n",
      "4: ──RY(0.00)─┤ ├<(-6.00*I)+((0.50*Z)@Z)+((0.50*Z)@Z)+((0.50*Z)@Z)+((0.50*Z)@Z)>\n",
      "2: ──RY(0.00)─┤ ├<(-6.00*I)+((0.50*Z)@Z)+((0.50*Z)@Z)+((0.50*Z)@Z)+((0.50*Z)@Z)>\n",
      "3: ──RY(0.00)─┤ ├<(-6.00*I)+((0.50*Z)@Z)+((0.50*Z)@Z)+((0.50*Z)@Z)+((0.50*Z)@Z)>\n",
      "5: ──RY(0.00)─┤ ╰<(-6.00*I)+((0.50*Z)@Z)+((0.50*Z)@Z)+((0.50*Z)@Z)+((0.50*Z)@Z)>\n"
     ]
    }
   ],
   "source": [
    "print(qml.draw(circuit, expansion_strategy='device')(params = [0,0,0,0,0]))"
   ]
  },
  {
   "cell_type": "code",
   "execution_count": 6,
   "metadata": {},
   "outputs": [],
   "source": [
    "params = np.random.rand(len(H.wires))\n",
    "# param = [0,0,3,0,0]"
   ]
  },
  {
   "cell_type": "code",
   "execution_count": 7,
   "metadata": {},
   "outputs": [
    {
     "data": {
      "text/plain": [
       "tensor(-8., requires_grad=True)"
      ]
     },
     "execution_count": 7,
     "metadata": {},
     "output_type": "execute_result"
    }
   ],
   "source": [
    "opt = qml.AdagradOptimizer(stepsize=0.5)\n",
    "epochs = 200\n",
    "\n",
    "for epoch in range(epochs):\n",
    "  params = opt.step(circuit, params)\n",
    "\n",
    "circuit(params)"
   ]
  },
  {
   "cell_type": "code",
   "execution_count": 8,
   "metadata": {},
   "outputs": [],
   "source": [
    "dev = qml.device('default.qubit', wires=H.wires, shots=10)\n",
    "@qml.qnode(dev)\n",
    "def circuit(params):\n",
    "    for param, wire in zip(params, H.wires):\n",
    "        qml.RY(param, wires=wire)\n",
    "    return qml.sample()"
   ]
  },
  {
   "cell_type": "code",
   "execution_count": 9,
   "metadata": {},
   "outputs": [
    {
     "data": {
      "text/plain": [
       "(array([[0, 1, 1, 0, 0],\n",
       "        [0, 1, 1, 0, 0],\n",
       "        [0, 1, 1, 0, 0],\n",
       "        [0, 1, 1, 0, 0],\n",
       "        [0, 1, 1, 0, 0],\n",
       "        [0, 1, 1, 0, 0],\n",
       "        [0, 1, 1, 0, 0],\n",
       "        [0, 1, 1, 0, 0],\n",
       "        [0, 1, 1, 0, 0],\n",
       "        [0, 1, 1, 0, 0]]),\n",
       " <Wires = [1, 4, 2, 3, 5]>)"
      ]
     },
     "execution_count": 9,
     "metadata": {},
     "output_type": "execute_result"
    }
   ],
   "source": [
    "circuit(params), H.wires"
   ]
  },
  {
   "cell_type": "code",
   "execution_count": 10,
   "metadata": {},
   "outputs": [
    {
     "data": {
      "text/plain": [
       "tensor([5.43047261e-066, 3.14159265e+000, 3.14159265e+000,\n",
       "        1.28423919e-125, 8.08295519e-045], requires_grad=True)"
      ]
     },
     "execution_count": 10,
     "metadata": {},
     "output_type": "execute_result"
    }
   ],
   "source": [
    "params"
   ]
  }
 ],
 "metadata": {
  "kernelspec": {
   "display_name": "first-step-eRmzlgdf-py3.10",
   "language": "python",
   "name": "python3"
  },
  "language_info": {
   "codemirror_mode": {
    "name": "ipython",
    "version": 3
   },
   "file_extension": ".py",
   "mimetype": "text/x-python",
   "name": "python",
   "nbconvert_exporter": "python",
   "pygments_lexer": "ipython3",
   "version": "3.10.5"
  }
 },
 "nbformat": 4,
 "nbformat_minor": 2
}
